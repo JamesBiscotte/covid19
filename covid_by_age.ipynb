{
 "cells": [
  {
   "cell_type": "code",
   "execution_count": null,
   "metadata": {},
   "outputs": [],
   "source": [
    "import numpy as np\n",
    "import pandas as pd\n",
    "import matplotlib.pyplot as plt\n",
    "import matplotlib.dates as mdates\n",
    "import time\n",
    "from datetime import datetime\n",
    "\n",
    "import warnings\n",
    "warnings.filterwarnings('ignore')"
   ]
  },
  {
   "cell_type": "markdown",
   "metadata": {},
   "source": [
    "# Get data from INSEE and from openData\n",
    "\n",
    "### https://www.data.gouv.fr/fr/datasets/donnees-hospitalieres-relatives-a-lepidemie-de-covid-19/\n",
    "### https://www.insee.fr/fr/information/4477356\n",
    "### this last file has been modified a bit: departement 1->9 were rewritten 01 to 09"
   ]
  },
  {
   "cell_type": "code",
   "execution_count": null,
   "metadata": {
    "scrolled": false
   },
   "outputs": [],
   "source": [
    "df=pd.read_csv('data/donnees-hospitalieres-classe-age-covid19-2020-04-24-19h00.csv',sep=';')\n",
    "# use dates: more convenient\n",
    "df['date']=pd.to_datetime(df['jour'])\n",
    "print(len(df['reg'].unique()))\n",
    "print(df.columns)\n",
    "df[:10]"
   ]
  },
  {
   "cell_type": "code",
   "execution_count": null,
   "metadata": {},
   "outputs": [],
   "source": [
    "dfMvt=pd.read_csv('data/populationMvt/donnees-confinement.csv',sep=';',encoding = \"ISO-8859-1\")\n",
    "dfMvt['Scenario1_Nuitees_avant_confinement']=dfMvt['Scenario1_Nuitees_avant_confinement'].str.replace(' ','')\n",
    "dfMvt['Scenario1_Nuiteestotales_ecart_lie_au_confinement']=dfMvt['Scenario1_Nuiteestotales_ecart_lie_au_confinement'].str.replace(' ','')\n",
    "habitantFrance=dfMvt[dfMvt['Code_departement']!='FRM']['Scenario1_Nuitees_avant_confinement'].astype(int).sum()"
   ]
  },
  {
   "cell_type": "markdown",
   "metadata": {},
   "source": [
    "# national count"
   ]
  },
  {
   "cell_type": "code",
   "execution_count": null,
   "metadata": {
    "scrolled": true
   },
   "outputs": [],
   "source": [
    "df=df.sort_values(by=['reg','date'])\n",
    "# keep only synthesis class\n",
    "dfSub=df[df['cl_age90']==0]\n",
    "#dfGB=pd.DataFrame(dfSub.groupby(['reg','date'])['hosp','rea','rad','dc'].sum()).reset_index()\n",
    "#print(dfGB[dfGB['date']=='2020-04-12'])\n",
    "dfGB=pd.DataFrame(dfSub.groupby(['date'])['hosp','rea','rad','dc'].sum()).reset_index()\n",
    "#print(dfGB[dfGB['date']=='2020-04-12'])"
   ]
  },
  {
   "cell_type": "code",
   "execution_count": null,
   "metadata": {
    "scrolled": true
   },
   "outputs": [],
   "source": [
    "# to have same yaxis on every chart, take max for of all variables\n",
    "yaxis_max=np.max(dfGB[['hosp','rea','rad','dc']].max(axis=0))*1.2\n",
    "yaxis_max=max(1000,yaxis_max)\n",
    "\n",
    "plt.figure(figsize=(12,8))\n",
    "plt.subplot(111)\n",
    "plt.gca().xaxis.set_major_formatter(mdates.DateFormatter('%Y-%m-%d'))\n",
    "plt.gca().xaxis.set_major_locator(mdates.DayLocator(interval=5))\n",
    "plt.plot(dfGB['date'].tolist(),dfGB['hosp'],color='gold',label='nb of people in hospital')\n",
    "plt.plot(dfGB['date'].tolist(),dfGB['rea'],color='coral',label='nb of people in rea')\n",
    "plt.plot(dfGB['date'].tolist(),dfGB['rad'],color='green',label='nb of people back home')\n",
    "plt.plot(dfGB['date'].tolist(),dfGB['dc'],color='crimson',label='nb of people dead')\n",
    "plt.gcf().autofmt_xdate()\n",
    "plt.ylim((0,yaxis_max))\n",
    "plt.title('THIS DAY')\n",
    "plt.legend(loc='upper left')\n",
    "plt.show()"
   ]
  },
  {
   "cell_type": "code",
   "execution_count": null,
   "metadata": {
    "scrolled": true
   },
   "outputs": [],
   "source": [
    "dfSub"
   ]
  },
  {
   "cell_type": "markdown",
   "metadata": {},
   "source": [
    "# Create basic curves for each department"
   ]
  },
  {
   "cell_type": "code",
   "execution_count": null,
   "metadata": {
    "scrolled": true
   },
   "outputs": [],
   "source": [
    "dfMvt['Code_departement']"
   ]
  },
  {
   "cell_type": "code",
   "execution_count": null,
   "metadata": {
    "scrolled": true
   },
   "outputs": [],
   "source": [
    "# use category synthesis to find yaxis maximum\n",
    "df['sum'] = df[['hosp','rea','dc','rad']].sum(axis=1)\n",
    "dfSum=df[df['cl_age90']==0]\n",
    "#print(dfSum)\n",
    "\n",
    "# remove category synthesis\n",
    "dfSub=df[df['cl_age90']!=0]\n",
    "timeStep=4\n",
    "dateList=np.unique(dfSub['date'].tolist())[::timeStep]\n",
    "depList=np.unique(dfSub['reg'].tolist())\n",
    "  \n",
    "#print(dfSub)\n",
    "\n",
    "for nbDone,dep in enumerate(depList):\n",
    "    \n",
    "    print('start with region',dep,'--------------------------------------------------------------------------------------- ')\n",
    "    \n",
    "    depTmp='{:02d}'.format(dep)\n",
    "    #print('depTmp:',depTmp)\n",
    "    depNom=dfMvt[dfMvt['Code_departement']==depTmp]['Departement'].tolist()\n",
    "    print('depNom:',depNom)\n",
    "        \n",
    "    if len(depNom)>0:\n",
    "\n",
    "        yaxis_max=dfSub[dfSub['reg']==dep]['sum'].max(axis=0)*1.1\n",
    "        #yaxis_max=max(1000,yaxis_max)\n",
    "\n",
    "        plt.figure(figsize=(6*len(dateList),5))\n",
    "            \n",
    "        for num,date in enumerate(dateList):\n",
    "\n",
    "            data=dfSub[(dfSub['reg']==dep)&(dfSub['date']==date)]\n",
    "\n",
    "            #print('date:',date)\n",
    "            #print('data:',data)\n",
    "\n",
    "            labels=data['cl_age90'].tolist()\n",
    "            hosp=np.array(data['hosp'].tolist())\n",
    "            rea=np.array(data['rea'].tolist())\n",
    "            dc=np.array(data['dc'].tolist())\n",
    "            rad=np.array(data['rad'].tolist())\n",
    "            \n",
    "            #print(len(labels),len(hosp),len(rea),len(dc),len(rad))\n",
    "            \n",
    "            plt.subplot(1,len(dateList),num+1)\n",
    "            width=1.0\n",
    "            ind=np.arange(len(labels))*2\n",
    "            #print('ind:',ind)\n",
    "            plt.bar(ind, hosp, width=width, label='hosp', color='gold',bottom=rad+dc+rea)\n",
    "            plt.bar(ind,  rea, width=width, label='rea', color='coral',bottom=rad+dc)\n",
    "            plt.bar(ind,   dc, width=width, label='dc', color='crimson', bottom=rad)\n",
    "            plt.bar(ind,  rad, width=width, label='rad', color='green')\n",
    "            plt.ylim((0,yaxis_max))\n",
    "            plt.xticks(ind,labels)\n",
    "            plt.ylabel('Number')\n",
    "            plt.xlabel('age class')\n",
    "            plt.legend(loc='upper left')\n",
    "            plt.title('age class distribution on the '+str(pd.to_datetime(date).month)+'/'+str(pd.to_datetime(date).day))\n",
    "            \n",
    "        plt.show()\n",
    "    #if nbDone>5:\n",
    "    #    break\n",
    "\n",
    "#points=pd.DataFrame(points,columns=['date','dep','firstDate','habitant','habitantIncrease','admissionIncrease'])"
   ]
  },
  {
   "cell_type": "markdown",
   "metadata": {},
   "source": [
    "# same but for 10000 inhabitants"
   ]
  },
  {
   "cell_type": "code",
   "execution_count": null,
   "metadata": {
    "scrolled": true
   },
   "outputs": [],
   "source": [
    "timeStep=4\n",
    "        \n",
    "for nbDone,dep in enumerate(depList):\n",
    "    \n",
    "    print('start with dep',dep,'--------------------------------------------------------------------------------------- ')\n",
    "    \n",
    "    depNom=dfMvt[dfMvt['Code_departement']==dep]['Departement'].tolist()\n",
    "    \n",
    "    if len(depNom)>0:\n",
    "        \n",
    "        # get the data of population movement for this department\n",
    "        depNuit=dfMvt[dfMvt['Code_departement']==dep]\n",
    "        habitant=int(depNuit['Scenario1_Nuitees_avant_confinement'].astype(int))\n",
    "         \n",
    "        depNom=depNom[0]\n",
    "        print('Departement',dep,depNom,'population:',habitant,'part france:{:.2f}%'.format(100*habitant/habitantFrance))\n",
    "        \n",
    "        #print(dep)\n",
    "        depData=dfGB[dfGB['reg']==dep]\n",
    "        #print(depData)\n",
    "          \n",
    "        # compute people getting out of the hospital every day and people dying\n",
    "        depData['sortie']=depData['rad']-depData['rad'].shift(1)\n",
    "        depData['dead']=depData['dc']-depData['dc'].shift(1)\n",
    "        \n",
    "        # the following addition seems to be wrong ... considering information from the \"nouveaux\" dataset is safer\n",
    "        # consequently 'statistics' and acceleration is not computed on these values\n",
    "        #depData['admission']=depData['hosp']-depData['hosp'].shift(1)+depData['sortie'].shift(1)+depData['dc'].shift(1)        \n",
    "        #depData['slidingAdmission']=depData['admission'].rolling(3,win_type='triang',center=True).mean()\n",
    "            \n",
    "        #print(depData[0:10])\n",
    "\n",
    "        # to have same yaxis on every chart, take max for of all variables\n",
    "        yaxis_max=1.1*10000*(np.max(depData[['hosp','rea','rad','dc']].max(axis=0)))/habitant\n",
    "        yaxis_max=max(10,yaxis_max)\n",
    "        \n",
    "        plt.figure(figsize=(12,6))\n",
    "        plt.subplot(121)\n",
    "        plt.gca().xaxis.set_major_formatter(mdates.DateFormatter('%Y-%m-%d'))\n",
    "        plt.gca().xaxis.set_major_locator(mdates.DayLocator(interval=5))\n",
    "        plt.plot(depData['date'].tolist(),10000*depData['hosp']/habitant,color='gold',label='nb of people in hospital')\n",
    "        plt.plot(depData['date'].tolist(),10000*depData['rea']/habitant,color='coral',label='nb of people in rea')\n",
    "        plt.plot(depData['date'].tolist(),10000*depData['sortie']/habitant,color='green',label='nb of people back home')\n",
    "        plt.plot(depData['date'].tolist(),10000*depData['dead']/habitant,color='crimson',label='nb of people dead')\n",
    "        plt.gcf().autofmt_xdate()\n",
    "        plt.ylim((0,yaxis_max))\n",
    "        plt.title('THIS DAY')\n",
    "        plt.legend(loc='upper left')\n",
    "\n",
    "        plt.subplot(122)\n",
    "        plt.gca().xaxis.set_major_formatter(mdates.DateFormatter('%Y-%m-%d'))\n",
    "        plt.gca().xaxis.set_major_locator(mdates.DayLocator(interval=5))\n",
    "        plt.plot(depData['date'].tolist(),10000*depData['rad']/habitant,color='green',label='nb of people back home')\n",
    "        plt.plot(depData['date'].tolist(),10000*depData['dc']/habitant,color='crimson',label='nb of people dead')\n",
    "        plt.gcf().autofmt_xdate()\n",
    "        plt.ylim((0,yaxis_max))\n",
    "        plt.title('CUMULATED')\n",
    "        plt.legend(loc='upper left')\n",
    "        plt.show()\n",
    "        \n",
    "        '''\n",
    "        plt.subplot(133)\n",
    "        plt.gca().xaxis.set_major_formatter(mdates.DateFormatter('%Y-%m-%d'))\n",
    "        plt.gca().xaxis.set_major_locator(mdates.DayLocator(interval=5))\n",
    "        plt.plot(depData['date'].tolist(),depData['sortie'],color='green',label='nb of people back home')\n",
    "        #plt.plot(depData['date'].tolist(),depData['admission'],color='gold',label='nb of people admitted')\n",
    "        #plt.plot(depData['date'].tolist(),depData['slidingAdmission'],color='orange',label='nb of people admitted sliding')\n",
    "        plt.plot(depData['date'].tolist(),depData['dead'],color='crimson',label='nb of people dead')\n",
    "        plt.gcf().autofmt_xdate()\n",
    "        plt.ylim((0,yaxis_max))\n",
    "        plt.title('DAILY')\n",
    "        plt.legend(loc='upper left')\n",
    "        plt.show()\n",
    "        '''\n",
    "        \n",
    "        '''\n",
    "        # get the data of population movement for this department\n",
    "        depNuit=dfMvt[dfMvt['Code_departement']==dep]\n",
    "        #print(depNuit)\n",
    "\n",
    "        habitant=int(depNuit['Scenario1_Nuitees_avant_confinement'].astype(int))\n",
    "        habitantApres=habitant+int(depNuit['Scenario1_Nuiteestotales_ecart_lie_au_confinement'].astype(int))\n",
    "        \n",
    "        habitantIncrease=float((habitantApres/habitant)-1)*100\n",
    "\n",
    "        #print('habitant:',habitant,habitantApres,habitantIncrease)\n",
    "            \n",
    "        dateList=depData[3::timeStep]['date'].tolist()\n",
    "        \n",
    "        #print('dateList:',dateList)\n",
    "                \n",
    "        firstData=depData[depData['date']==dateList[0]]\n",
    "        \n",
    "        print('firstData:',firstData)\n",
    "        \n",
    "        for date in dateList:\n",
    "            thisData=depData[depData['date']==date]\n",
    "            #print('thisData:',thisData)\n",
    "            #print(thisData['slidingAdmission'].tolist()[0])\n",
    "            if int(firstData['slidingAdmission'])>0 and not np.isnan(thisData['slidingAdmission'].tolist()[0]):\n",
    "                points.append([date,dep,dateList[0],habitant,habitantIncrease,int(thisData['slidingAdmission'])/int(firstData['slidingAdmission'])])\n",
    "            else:\n",
    "                points.append([date,dep,dateList[0],habitant,habitantIncrease,np.nan])\n",
    "       '''     \n",
    "\n",
    "        #if nbDone>5:\n",
    "        #    break\n",
    "            \n",
    "#points=pd.DataFrame(points,columns=['date','dep','firstDate','habitant','habitantIncrease','admissionIncrease'])"
   ]
  },
  {
   "cell_type": "markdown",
   "metadata": {},
   "source": [
    "# Sandbox"
   ]
  },
  {
   "cell_type": "code",
   "execution_count": null,
   "metadata": {},
   "outputs": [],
   "source": []
  }
 ],
 "metadata": {
  "kernelspec": {
   "display_name": "Python 3",
   "language": "python",
   "name": "python3"
  },
  "language_info": {
   "codemirror_mode": {
    "name": "ipython",
    "version": 3
   },
   "file_extension": ".py",
   "mimetype": "text/x-python",
   "name": "python",
   "nbconvert_exporter": "python",
   "pygments_lexer": "ipython3",
   "version": "3.7.3"
  }
 },
 "nbformat": 4,
 "nbformat_minor": 2
}
